{
 "cells": [
  {
   "cell_type": "markdown",
   "metadata": {},
   "source": [
    "<h1 class=\"list-group-item list-group-item-action active\" data-toggle=\"list\"  role=\"tab\" aria-controls=\"home\">SUPERVISED LEARNING REGRESSION MINI PROJECT </h1>\n",
    "     \n"
   ]
  },
  {
   "cell_type": "code",
   "execution_count": 40,
   "metadata": {},
   "outputs": [
    {
     "name": "stdout",
     "output_type": "stream",
     "text": [
      "Requirement already satisfied: mlxtend in c:\\users\\dell\\anaconda3\\lib\\site-packages (0.20.0)\n",
      "Requirement already satisfied: scipy>=1.2.1 in c:\\users\\dell\\anaconda3\\lib\\site-packages (from mlxtend) (1.6.2)\n",
      "Requirement already satisfied: matplotlib>=3.0.0 in c:\\users\\dell\\anaconda3\\lib\\site-packages (from mlxtend) (3.3.4)\n",
      "Requirement already satisfied: pandas>=0.24.2 in c:\\users\\dell\\anaconda3\\lib\\site-packages (from mlxtend) (1.2.4)\n",
      "Requirement already satisfied: setuptools in c:\\users\\dell\\anaconda3\\lib\\site-packages (from mlxtend) (52.0.0.post20210125)\n",
      "Requirement already satisfied: joblib>=0.13.2 in c:\\users\\dell\\anaconda3\\lib\\site-packages (from mlxtend) (1.0.1)\n",
      "Requirement already satisfied: numpy>=1.16.2 in c:\\users\\dell\\anaconda3\\lib\\site-packages (from mlxtend) (1.20.1)\n",
      "Requirement already satisfied: scikit-learn>=1.0.2 in c:\\users\\dell\\anaconda3\\lib\\site-packages (from mlxtend) (1.1.1)\n",
      "Requirement already satisfied: pyparsing!=2.0.4,!=2.1.2,!=2.1.6,>=2.0.3 in c:\\users\\dell\\anaconda3\\lib\\site-packages (from matplotlib>=3.0.0->mlxtend) (2.4.7)\n",
      "Requirement already satisfied: kiwisolver>=1.0.1 in c:\\users\\dell\\anaconda3\\lib\\site-packages (from matplotlib>=3.0.0->mlxtend) (1.3.1)\n",
      "Requirement already satisfied: cycler>=0.10 in c:\\users\\dell\\anaconda3\\lib\\site-packages (from matplotlib>=3.0.0->mlxtend) (0.10.0)\n",
      "Requirement already satisfied: python-dateutil>=2.1 in c:\\users\\dell\\anaconda3\\lib\\site-packages (from matplotlib>=3.0.0->mlxtend) (2.8.1)\n",
      "Requirement already satisfied: pillow>=6.2.0 in c:\\users\\dell\\anaconda3\\lib\\site-packages (from matplotlib>=3.0.0->mlxtend) (8.2.0)\n",
      "Requirement already satisfied: six in c:\\users\\dell\\anaconda3\\lib\\site-packages (from cycler>=0.10->matplotlib>=3.0.0->mlxtend) (1.15.0)\n",
      "Requirement already satisfied: pytz>=2017.3 in c:\\users\\dell\\anaconda3\\lib\\site-packages (from pandas>=0.24.2->mlxtend) (2021.1)\n",
      "Requirement already satisfied: threadpoolctl>=2.0.0 in c:\\users\\dell\\anaconda3\\lib\\site-packages (from scikit-learn>=1.0.2->mlxtend) (2.1.0)\n"
     ]
    }
   ],
   "source": [
    "! pip install mlxtend"
   ]
  },
  {
   "cell_type": "code",
   "execution_count": 1,
   "metadata": {},
   "outputs": [],
   "source": [
    "# Import Numeric Python\n",
    "import numpy as np\n",
    "\n",
    "# Import Pandas \n",
    "import pandas as pd\n",
    "\n",
    "# Data Visualization Libraries\n",
    "import matplotlib.pyplot as plt\n",
    "import seaborn as sns\n",
    "import plotly.express as px\n",
    "\n",
    "# Filter Warning\n",
    "from warnings import filterwarnings\n",
    "filterwarnings('ignore')\n",
    "\n",
    "# DATA PREPROCESSING\n",
    "from sklearn.preprocessing import StandardScaler\n",
    "from sklearn.preprocessing import LabelEncoder\n",
    "from sklearn.preprocessing import MinMaxScaler\n",
    "from sklearn.preprocessing import OneHotEncoder\n",
    "\n",
    "# TRAIN TEST SPLIT \n",
    "from sklearn.model_selection import train_test_split\n",
    "from sklearn.model_selection import StratifiedShuffleSplit\n",
    "\n",
    "# LINEAR REGRESSION\n",
    "from sklearn.linear_model import LinearRegression\n",
    "import statsmodels.api as sm\n",
    "\n",
    "# REGULAIZATION TECHNIQUES\n",
    "from sklearn.linear_model import Ridge"
   ]
  },
  {
   "cell_type": "code",
   "execution_count": 41,
   "metadata": {},
   "outputs": [],
   "source": [
    "# import functions to perform feature selection\n",
    "from mlxtend.feature_selection import SequentialFeatureSelector as sfs\n",
    "from sklearn.feature_selection import RFE\n",
    "\n",
    "# import function to perform linear regression\n",
    "from sklearn.linear_model import LinearRegression\n",
    "\n",
    "# import functions to perform cross validation\n",
    "from sklearn.model_selection import LeaveOneOut\n",
    "from sklearn.model_selection import cross_val_score\n",
    "from sklearn.model_selection import KFold"
   ]
  },
  {
   "cell_type": "code",
   "execution_count": 62,
   "metadata": {},
   "outputs": [],
   "source": [
    "from statsmodels.stats.outliers_influence import variance_inflation_factor\n",
    "from statsmodels.graphics.gofplots import qqplot\n",
    "from statsmodels.stats.anova import anova_lm\n",
    "from statsmodels.formula.api import ols\n",
    "from statsmodels.tools.eval_measures import rmse"
   ]
  },
  {
   "cell_type": "code",
   "execution_count": null,
   "metadata": {},
   "outputs": [],
   "source": []
  },
  {
   "cell_type": "markdown",
   "metadata": {},
   "source": [
    "<h2 class=\"list-group-item list-group-item-action active\" >1. Read the dataset likes.csv </h2>"
   ]
  },
  {
   "cell_type": "code",
   "execution_count": 2,
   "metadata": {
    "scrolled": true
   },
   "outputs": [
    {
     "data": {
      "text/html": [
       "<div>\n",
       "<style scoped>\n",
       "    .dataframe tbody tr th:only-of-type {\n",
       "        vertical-align: middle;\n",
       "    }\n",
       "\n",
       "    .dataframe tbody tr th {\n",
       "        vertical-align: top;\n",
       "    }\n",
       "\n",
       "    .dataframe thead th {\n",
       "        text-align: right;\n",
       "    }\n",
       "</style>\n",
       "<table border=\"1\" class=\"dataframe\">\n",
       "  <thead>\n",
       "    <tr style=\"text-align: right;\">\n",
       "      <th></th>\n",
       "      <th>userid</th>\n",
       "      <th>age</th>\n",
       "      <th>dob_day</th>\n",
       "      <th>dob_year</th>\n",
       "      <th>dob_month</th>\n",
       "      <th>gender</th>\n",
       "      <th>tenure</th>\n",
       "      <th>friend_count</th>\n",
       "      <th>friendships_initiated</th>\n",
       "      <th>likes</th>\n",
       "      <th>likes_received</th>\n",
       "      <th>mobile_likes</th>\n",
       "      <th>mobile_likes_received</th>\n",
       "      <th>www_likes</th>\n",
       "      <th>www_likes_received</th>\n",
       "    </tr>\n",
       "  </thead>\n",
       "  <tbody>\n",
       "    <tr>\n",
       "      <th>0</th>\n",
       "      <td>1098638</td>\n",
       "      <td>13</td>\n",
       "      <td>2</td>\n",
       "      <td>2000</td>\n",
       "      <td>2</td>\n",
       "      <td>male</td>\n",
       "      <td>0</td>\n",
       "      <td>0</td>\n",
       "      <td>0</td>\n",
       "      <td>1</td>\n",
       "      <td>0</td>\n",
       "      <td>0</td>\n",
       "      <td>0</td>\n",
       "      <td>1</td>\n",
       "      <td>0</td>\n",
       "    </tr>\n",
       "    <tr>\n",
       "      <th>1</th>\n",
       "      <td>2063204</td>\n",
       "      <td>14</td>\n",
       "      <td>22</td>\n",
       "      <td>1999</td>\n",
       "      <td>1</td>\n",
       "      <td>male</td>\n",
       "      <td>104</td>\n",
       "      <td>0</td>\n",
       "      <td>0</td>\n",
       "      <td>1</td>\n",
       "      <td>0</td>\n",
       "      <td>0</td>\n",
       "      <td>0</td>\n",
       "      <td>1</td>\n",
       "      <td>0</td>\n",
       "    </tr>\n",
       "    <tr>\n",
       "      <th>2</th>\n",
       "      <td>1579594</td>\n",
       "      <td>19</td>\n",
       "      <td>18</td>\n",
       "      <td>1994</td>\n",
       "      <td>10</td>\n",
       "      <td>female</td>\n",
       "      <td>212</td>\n",
       "      <td>0</td>\n",
       "      <td>0</td>\n",
       "      <td>1</td>\n",
       "      <td>0</td>\n",
       "      <td>0</td>\n",
       "      <td>0</td>\n",
       "      <td>1</td>\n",
       "      <td>0</td>\n",
       "    </tr>\n",
       "    <tr>\n",
       "      <th>3</th>\n",
       "      <td>1979672</td>\n",
       "      <td>21</td>\n",
       "      <td>1</td>\n",
       "      <td>1992</td>\n",
       "      <td>1</td>\n",
       "      <td>male</td>\n",
       "      <td>328</td>\n",
       "      <td>0</td>\n",
       "      <td>0</td>\n",
       "      <td>1</td>\n",
       "      <td>0</td>\n",
       "      <td>0</td>\n",
       "      <td>0</td>\n",
       "      <td>1</td>\n",
       "      <td>0</td>\n",
       "    </tr>\n",
       "    <tr>\n",
       "      <th>4</th>\n",
       "      <td>1344831</td>\n",
       "      <td>23</td>\n",
       "      <td>10</td>\n",
       "      <td>1990</td>\n",
       "      <td>2</td>\n",
       "      <td>male</td>\n",
       "      <td>580</td>\n",
       "      <td>0</td>\n",
       "      <td>0</td>\n",
       "      <td>1</td>\n",
       "      <td>0</td>\n",
       "      <td>0</td>\n",
       "      <td>0</td>\n",
       "      <td>1</td>\n",
       "      <td>0</td>\n",
       "    </tr>\n",
       "  </tbody>\n",
       "</table>\n",
       "</div>"
      ],
      "text/plain": [
       "    userid  age  dob_day  dob_year  dob_month  gender  tenure  friend_count  \\\n",
       "0  1098638   13        2      2000          2    male       0             0   \n",
       "1  2063204   14       22      1999          1    male     104             0   \n",
       "2  1579594   19       18      1994         10  female     212             0   \n",
       "3  1979672   21        1      1992          1    male     328             0   \n",
       "4  1344831   23       10      1990          2    male     580             0   \n",
       "\n",
       "   friendships_initiated  likes  likes_received  mobile_likes  \\\n",
       "0                      0      1               0             0   \n",
       "1                      0      1               0             0   \n",
       "2                      0      1               0             0   \n",
       "3                      0      1               0             0   \n",
       "4                      0      1               0             0   \n",
       "\n",
       "   mobile_likes_received  www_likes  www_likes_received  \n",
       "0                      0          1                   0  \n",
       "1                      0          1                   0  \n",
       "2                      0          1                   0  \n",
       "3                      0          1                   0  \n",
       "4                      0          1                   0  "
      ]
     },
     "execution_count": 2,
     "metadata": {},
     "output_type": "execute_result"
    }
   ],
   "source": [
    "df = pd.read_csv('likes.csv')\n",
    "df.head()"
   ]
  },
  {
   "cell_type": "markdown",
   "metadata": {},
   "source": [
    "##### NUMBER OF ROWS AND COLUMNS IN THE DATA"
   ]
  },
  {
   "cell_type": "code",
   "execution_count": 3,
   "metadata": {},
   "outputs": [
    {
     "name": "stdout",
     "output_type": "stream",
     "text": [
      "Number of Rows in the data set : 2104\n",
      "Number of Columns in the Data Set : 15\n"
     ]
    }
   ],
   "source": [
    "# Number of Rows\n",
    "row = df.shape[0]\n",
    "# Number of Columns\n",
    "col = df.shape[1]\n",
    "\n",
    "# PRINTING ROWS AND COLUMNS\n",
    "print(f\"Number of Rows in the data set : {row}\\nNumber of Columns in the Data Set : {col}\")"
   ]
  },
  {
   "cell_type": "markdown",
   "metadata": {},
   "source": [
    "##### NUMBER OF UNIQUE USER"
   ]
  },
  {
   "cell_type": "code",
   "execution_count": 4,
   "metadata": {},
   "outputs": [
    {
     "name": "stdout",
     "output_type": "stream",
     "text": [
      "Number of Unique user : 2104\n"
     ]
    }
   ],
   "source": [
    "no_user = df['userid'].unique()\n",
    "print(f'Number of Unique user : {len(no_user)}')"
   ]
  },
  {
   "cell_type": "markdown",
   "metadata": {},
   "source": [
    "##### FIVE POINT SUMMARY OF THE NUMERIC DATA "
   ]
  },
  {
   "cell_type": "code",
   "execution_count": 5,
   "metadata": {},
   "outputs": [
    {
     "data": {
      "text/html": [
       "<div>\n",
       "<style scoped>\n",
       "    .dataframe tbody tr th:only-of-type {\n",
       "        vertical-align: middle;\n",
       "    }\n",
       "\n",
       "    .dataframe tbody tr th {\n",
       "        vertical-align: top;\n",
       "    }\n",
       "\n",
       "    .dataframe thead th {\n",
       "        text-align: right;\n",
       "    }\n",
       "</style>\n",
       "<table border=\"1\" class=\"dataframe\">\n",
       "  <thead>\n",
       "    <tr style=\"text-align: right;\">\n",
       "      <th></th>\n",
       "      <th>userid</th>\n",
       "      <th>age</th>\n",
       "      <th>dob_day</th>\n",
       "      <th>dob_year</th>\n",
       "      <th>dob_month</th>\n",
       "      <th>tenure</th>\n",
       "      <th>friend_count</th>\n",
       "      <th>friendships_initiated</th>\n",
       "      <th>likes</th>\n",
       "      <th>likes_received</th>\n",
       "      <th>mobile_likes</th>\n",
       "      <th>mobile_likes_received</th>\n",
       "      <th>www_likes</th>\n",
       "      <th>www_likes_received</th>\n",
       "    </tr>\n",
       "  </thead>\n",
       "  <tbody>\n",
       "    <tr>\n",
       "      <th>count</th>\n",
       "      <td>2.104000e+03</td>\n",
       "      <td>2104.000000</td>\n",
       "      <td>2104.000000</td>\n",
       "      <td>2104.000000</td>\n",
       "      <td>2104.000000</td>\n",
       "      <td>2104.000000</td>\n",
       "      <td>2104.000000</td>\n",
       "      <td>2104.000000</td>\n",
       "      <td>2104.000000</td>\n",
       "      <td>2104.000000</td>\n",
       "      <td>2104.000000</td>\n",
       "      <td>2104.000000</td>\n",
       "      <td>2104.000000</td>\n",
       "      <td>2104.000000</td>\n",
       "    </tr>\n",
       "    <tr>\n",
       "      <th>mean</th>\n",
       "      <td>1.591984e+06</td>\n",
       "      <td>33.427281</td>\n",
       "      <td>13.144962</td>\n",
       "      <td>1979.572719</td>\n",
       "      <td>5.882605</td>\n",
       "      <td>274.701046</td>\n",
       "      <td>2.039924</td>\n",
       "      <td>1.453422</td>\n",
       "      <td>27.654468</td>\n",
       "      <td>7.934886</td>\n",
       "      <td>17.676331</td>\n",
       "      <td>4.091255</td>\n",
       "      <td>9.978137</td>\n",
       "      <td>3.843631</td>\n",
       "    </tr>\n",
       "    <tr>\n",
       "      <th>std</th>\n",
       "      <td>3.444627e+05</td>\n",
       "      <td>16.155287</td>\n",
       "      <td>9.242513</td>\n",
       "      <td>16.155287</td>\n",
       "      <td>3.698839</td>\n",
       "      <td>297.508563</td>\n",
       "      <td>1.397070</td>\n",
       "      <td>1.242272</td>\n",
       "      <td>169.454213</td>\n",
       "      <td>44.784909</td>\n",
       "      <td>155.249561</td>\n",
       "      <td>25.828290</td>\n",
       "      <td>53.746481</td>\n",
       "      <td>22.127323</td>\n",
       "    </tr>\n",
       "    <tr>\n",
       "      <th>min</th>\n",
       "      <td>1.000738e+06</td>\n",
       "      <td>13.000000</td>\n",
       "      <td>1.000000</td>\n",
       "      <td>1905.000000</td>\n",
       "      <td>1.000000</td>\n",
       "      <td>0.000000</td>\n",
       "      <td>0.000000</td>\n",
       "      <td>0.000000</td>\n",
       "      <td>1.000000</td>\n",
       "      <td>0.000000</td>\n",
       "      <td>0.000000</td>\n",
       "      <td>0.000000</td>\n",
       "      <td>0.000000</td>\n",
       "      <td>0.000000</td>\n",
       "    </tr>\n",
       "    <tr>\n",
       "      <th>25%</th>\n",
       "      <td>1.295331e+06</td>\n",
       "      <td>22.000000</td>\n",
       "      <td>4.750000</td>\n",
       "      <td>1971.750000</td>\n",
       "      <td>2.000000</td>\n",
       "      <td>54.000000</td>\n",
       "      <td>1.000000</td>\n",
       "      <td>1.000000</td>\n",
       "      <td>1.000000</td>\n",
       "      <td>0.000000</td>\n",
       "      <td>0.000000</td>\n",
       "      <td>0.000000</td>\n",
       "      <td>0.000000</td>\n",
       "      <td>0.000000</td>\n",
       "    </tr>\n",
       "    <tr>\n",
       "      <th>50%</th>\n",
       "      <td>1.584463e+06</td>\n",
       "      <td>28.000000</td>\n",
       "      <td>12.500000</td>\n",
       "      <td>1985.000000</td>\n",
       "      <td>6.000000</td>\n",
       "      <td>191.000000</td>\n",
       "      <td>2.000000</td>\n",
       "      <td>1.000000</td>\n",
       "      <td>4.000000</td>\n",
       "      <td>1.000000</td>\n",
       "      <td>1.000000</td>\n",
       "      <td>0.000000</td>\n",
       "      <td>0.000000</td>\n",
       "      <td>0.000000</td>\n",
       "    </tr>\n",
       "    <tr>\n",
       "      <th>75%</th>\n",
       "      <td>1.883310e+06</td>\n",
       "      <td>41.250000</td>\n",
       "      <td>21.000000</td>\n",
       "      <td>1991.000000</td>\n",
       "      <td>9.000000</td>\n",
       "      <td>387.000000</td>\n",
       "      <td>3.000000</td>\n",
       "      <td>2.000000</td>\n",
       "      <td>14.000000</td>\n",
       "      <td>3.000000</td>\n",
       "      <td>6.000000</td>\n",
       "      <td>2.000000</td>\n",
       "      <td>3.000000</td>\n",
       "      <td>1.000000</td>\n",
       "    </tr>\n",
       "    <tr>\n",
       "      <th>max</th>\n",
       "      <td>2.193411e+06</td>\n",
       "      <td>108.000000</td>\n",
       "      <td>31.000000</td>\n",
       "      <td>2000.000000</td>\n",
       "      <td>12.000000</td>\n",
       "      <td>2303.000000</td>\n",
       "      <td>5.000000</td>\n",
       "      <td>5.000000</td>\n",
       "      <td>5937.000000</td>\n",
       "      <td>1326.000000</td>\n",
       "      <td>5704.000000</td>\n",
       "      <td>679.000000</td>\n",
       "      <td>1580.000000</td>\n",
       "      <td>647.000000</td>\n",
       "    </tr>\n",
       "  </tbody>\n",
       "</table>\n",
       "</div>"
      ],
      "text/plain": [
       "             userid          age      dob_day     dob_year    dob_month  \\\n",
       "count  2.104000e+03  2104.000000  2104.000000  2104.000000  2104.000000   \n",
       "mean   1.591984e+06    33.427281    13.144962  1979.572719     5.882605   \n",
       "std    3.444627e+05    16.155287     9.242513    16.155287     3.698839   \n",
       "min    1.000738e+06    13.000000     1.000000  1905.000000     1.000000   \n",
       "25%    1.295331e+06    22.000000     4.750000  1971.750000     2.000000   \n",
       "50%    1.584463e+06    28.000000    12.500000  1985.000000     6.000000   \n",
       "75%    1.883310e+06    41.250000    21.000000  1991.000000     9.000000   \n",
       "max    2.193411e+06   108.000000    31.000000  2000.000000    12.000000   \n",
       "\n",
       "            tenure  friend_count  friendships_initiated        likes  \\\n",
       "count  2104.000000   2104.000000            2104.000000  2104.000000   \n",
       "mean    274.701046      2.039924               1.453422    27.654468   \n",
       "std     297.508563      1.397070               1.242272   169.454213   \n",
       "min       0.000000      0.000000               0.000000     1.000000   \n",
       "25%      54.000000      1.000000               1.000000     1.000000   \n",
       "50%     191.000000      2.000000               1.000000     4.000000   \n",
       "75%     387.000000      3.000000               2.000000    14.000000   \n",
       "max    2303.000000      5.000000               5.000000  5937.000000   \n",
       "\n",
       "       likes_received  mobile_likes  mobile_likes_received    www_likes  \\\n",
       "count     2104.000000   2104.000000            2104.000000  2104.000000   \n",
       "mean         7.934886     17.676331               4.091255     9.978137   \n",
       "std         44.784909    155.249561              25.828290    53.746481   \n",
       "min          0.000000      0.000000               0.000000     0.000000   \n",
       "25%          0.000000      0.000000               0.000000     0.000000   \n",
       "50%          1.000000      1.000000               0.000000     0.000000   \n",
       "75%          3.000000      6.000000               2.000000     3.000000   \n",
       "max       1326.000000   5704.000000             679.000000  1580.000000   \n",
       "\n",
       "       www_likes_received  \n",
       "count         2104.000000  \n",
       "mean             3.843631  \n",
       "std             22.127323  \n",
       "min              0.000000  \n",
       "25%              0.000000  \n",
       "50%              0.000000  \n",
       "75%              1.000000  \n",
       "max            647.000000  "
      ]
     },
     "execution_count": 5,
     "metadata": {},
     "output_type": "execute_result"
    }
   ],
   "source": [
    "df.describe()"
   ]
  },
  {
   "cell_type": "markdown",
   "metadata": {},
   "source": [
    "##### NULL VALUE ANALYSIS"
   ]
  },
  {
   "cell_type": "code",
   "execution_count": 6,
   "metadata": {},
   "outputs": [
    {
     "data": {
      "text/plain": [
       "userid                   0.000000\n",
       "age                      0.000000\n",
       "dob_day                  0.000000\n",
       "dob_year                 0.000000\n",
       "dob_month                0.000000\n",
       "gender                   0.095057\n",
       "tenure                   0.000000\n",
       "friend_count             0.000000\n",
       "friendships_initiated    0.000000\n",
       "likes                    0.000000\n",
       "likes_received           0.000000\n",
       "mobile_likes             0.000000\n",
       "mobile_likes_received    0.000000\n",
       "www_likes                0.000000\n",
       "www_likes_received       0.000000\n",
       "dtype: float64"
      ]
     },
     "execution_count": 6,
     "metadata": {},
     "output_type": "execute_result"
    }
   ],
   "source": [
    "# To Check Percentage Null Value in Each Columns\n",
    "df.isnull().sum()/len(df)*100"
   ]
  },
  {
   "cell_type": "markdown",
   "metadata": {},
   "source": [
    "INTERPRETATION : GENDER COLUMNS HAS VERY FEW NULL VALUE WHICH WE HAVE TO FIX IT"
   ]
  },
  {
   "cell_type": "code",
   "execution_count": 7,
   "metadata": {},
   "outputs": [
    {
     "data": {
      "image/png": "[encoded data removed]",
      "text/plain": [
       "<Figure size 900x600 with 1 Axes>"
      ]
     },
     "metadata": {
      "needs_background": "light"
     },
     "output_type": "display_data"
    }
   ],
   "source": [
    "# As Gender is Categorical Columns we need to fill the value which has the highest counts\n",
    "\n",
    "# Plotting Bar Graph Or Count to Check the Count of Each Categorical Columns\n",
    "\n",
    "# Figure Size\n",
    "plt.figure(figsize = (15,10) ,dpi = 60)\n",
    "\n",
    "# PLotting The Count Plot Using Seaborn\n",
    "sns.countplot(data=df , x = df['gender'])\n",
    "\n",
    "# Title of the plot\n",
    "plt.title('Count for the Number of Males and Females in The social Media',size = 20)\n",
    "\n",
    "# ADDING TEXT ABOVE THE BAR\n",
    "\n",
    "# X AXIS\n",
    "plt.xticks(size = 15)\n",
    "plt.xlabel('Gender',size = 20)\n",
    "\n",
    "# Y AXIS\n",
    "plt.yticks(size = 15)\n",
    "plt.ylabel('Count Of Each Gender',size = 20)\n",
    "\n",
    "# Showing Plot and Grid in the Plot\n",
    "plt.grid(True ,  alpha = 0.8, color = 'red')\n",
    "plt.show()"
   ]
  },
  {
   "cell_type": "markdown",
   "metadata": {},
   "source": [
    "INTERPRETATION : WHERE EVERY THERE IS NULL VALUE IN THE GENDER COLUMN WE SHOULD ADD MALE GENDER"
   ]
  },
  {
   "cell_type": "code",
   "execution_count": 8,
   "metadata": {},
   "outputs": [],
   "source": [
    "df['gender'].fillna('male',inplace =True)"
   ]
  },
  {
   "cell_type": "code",
   "execution_count": 9,
   "metadata": {},
   "outputs": [
    {
     "data": {
      "text/plain": [
       "userid                   0.0\n",
       "age                      0.0\n",
       "dob_day                  0.0\n",
       "dob_year                 0.0\n",
       "dob_month                0.0\n",
       "gender                   0.0\n",
       "tenure                   0.0\n",
       "friend_count             0.0\n",
       "friendships_initiated    0.0\n",
       "likes                    0.0\n",
       "likes_received           0.0\n",
       "mobile_likes             0.0\n",
       "mobile_likes_received    0.0\n",
       "www_likes                0.0\n",
       "www_likes_received       0.0\n",
       "dtype: float64"
      ]
     },
     "execution_count": 9,
     "metadata": {},
     "output_type": "execute_result"
    }
   ],
   "source": [
    "# Now Checking Null Value\n",
    "\n",
    "# To Check Percentage Null Value in Each Columns\n",
    "df.isnull().sum()/len(df)*100"
   ]
  },
  {
   "cell_type": "markdown",
   "metadata": {},
   "source": [
    "INTERPREATION : HENCE WE HAVE NO NULL VALUE WE CAN PROCCED TO THE EXPLORATORY DATA ANALYSIS"
   ]
  },
  {
   "cell_type": "markdown",
   "metadata": {},
   "source": [
    "##### DATA TYPE OF EACH COLUMNS"
   ]
  },
  {
   "cell_type": "code",
   "execution_count": 22,
   "metadata": {},
   "outputs": [
    {
     "name": "stdout",
     "output_type": "stream",
     "text": [
      "<class 'pandas.core.frame.DataFrame'>\n",
      "RangeIndex: 2104 entries, 0 to 2103\n",
      "Data columns (total 15 columns):\n",
      " #   Column                 Non-Null Count  Dtype \n",
      "---  ------                 --------------  ----- \n",
      " 0   userid                 2104 non-null   int64 \n",
      " 1   age                    2104 non-null   int64 \n",
      " 2   dob_day                2104 non-null   int64 \n",
      " 3   dob_year               2104 non-null   int64 \n",
      " 4   dob_month              2104 non-null   int64 \n",
      " 5   gender                 2104 non-null   object\n",
      " 6   tenure                 2104 non-null   int64 \n",
      " 7   friend_count           2104 non-null   int64 \n",
      " 8   friendships_initiated  2104 non-null   int64 \n",
      " 9   likes                  2104 non-null   int64 \n",
      " 10  likes_received         2104 non-null   int64 \n",
      " 11  mobile_likes           2104 non-null   int64 \n",
      " 12  mobile_likes_received  2104 non-null   int64 \n",
      " 13  www_likes              2104 non-null   int64 \n",
      " 14  www_likes_received     2104 non-null   int64 \n",
      "dtypes: int64(14), object(1)\n",
      "memory usage: 246.7+ KB\n"
     ]
    }
   ],
   "source": [
    "df.info()"
   ]
  },
  {
   "cell_type": "markdown",
   "metadata": {},
   "source": [
    "Interpretation : We have one categorical columns that is gender"
   ]
  },
  {
   "cell_type": "markdown",
   "metadata": {},
   "source": [
    "<h2 class=\"list-group-item list-group-item-action active\" >2. Basic EDA to understand dataset </h2>\n",
    "\n",
    ">### 1.  Select more than five columns for EDA\n",
    "\n",
    " Step1: Each plot must Use the subplots \n",
    " \n",
    "             Plot 1: Histogram or bar, line and use suitable plots\n",
    "             \n",
    "             Plot2: Box plot \n",
    "             \n",
    " Step2: Write the inference is it data skewed or not\n",
    "\n",
    " Step3: Write the inference is it data having  outliers  or not\n",
    "\n",
    "\n",
    "\n",
    ">### 2.  Plot the heat map \n",
    "             \n",
    "  Step1: Write the inference on the dependent variable and independent variable having the most (Positive and Negative) correlation columns \n",
    "\n",
    "\n",
    "  Step2: Write the inference on the correlation among independent variables"
   ]
  },
  {
   "cell_type": "markdown",
   "metadata": {},
   "source": [
    "##### SEPARATE CONTINOUS AND CATEGORICAL COLUMNS"
   ]
  },
  {
   "cell_type": "code",
   "execution_count": 10,
   "metadata": {},
   "outputs": [],
   "source": [
    "df_num = df.select_dtypes('number')\n",
    "df_cat = df.select_dtypes('object')"
   ]
  },
  {
   "cell_type": "code",
   "execution_count": 11,
   "metadata": {},
   "outputs": [
    {
     "data": {
      "text/plain": [
       "14"
      ]
     },
     "execution_count": 11,
     "metadata": {},
     "output_type": "execute_result"
    }
   ],
   "source": [
    "df_num.shape[1]"
   ]
  },
  {
   "cell_type": "markdown",
   "metadata": {},
   "source": [
    "#### 1. SUBPLOTS\n",
    "\n",
    "NUMERIC COLUMNS \n",
    "\n",
    "A. KERNEL DISTRIBUTION PLOT -- > TO SEE DISTRIBUTION OF PLOT\n",
    "\n",
    "B. BOXPLOT -- > TO CHECK FOR OUTLIER \n",
    "\n",
    "CATEGORICAL COLUMNS\n",
    "\n",
    "A. COUNT PLOT"
   ]
  },
  {
   "cell_type": "markdown",
   "metadata": {},
   "source": [
    "###### NUMERIC COLUMNS \n",
    "\n",
    "A. KERNEL DISTRIBUTION PLOT -- > TO SEE DISTRIBUTION OF PLOT\n",
    "\n",
    "B. BOXPLOT -- > TO CHECK FOR OUTLIER "
   ]
  },
  {
   "cell_type": "code",
   "execution_count": null,
   "metadata": {},
   "outputs": [],
   "source": [
    "# plotting scatter plot with for loop and subplots\n",
    "fig,ax = plt.subplots(nrows= 2 ,ncols= 5, figsize = (20,10))\n",
    "for variable,subplot in zip(x.columns[0:],ax.flatten()):\n",
    "    z = sns.scatterplot(x[variable],res,ax = subplot)\n",
    "    z.set_ylabel('Residual',fontsize = 10)"
   ]
  },
  {
   "cell_type": "code",
   "execution_count": null,
   "metadata": {},
   "outputs": [],
   "source": [
    "fig,ax = plt.subplots(nrows=28,ncols=2,figsize = (15,10))\n",
    "for variable in df.num.columns : \n",
    "    "
   ]
  },
  {
   "cell_type": "code",
   "execution_count": 30,
   "metadata": {},
   "outputs": [
    {
     "data": {
      "image/png": "[encoded data removed]",
      "text/plain": [
       "<Figure size 900x420 with 1 Axes>"
      ]
     },
     "metadata": {
      "needs_background": "light"
     },
     "output_type": "display_data"
    }
   ],
   "source": [
    "plt.figure(figsize = (15,7),dpi = 60)\n",
    "df.drop('userid',axis=1).boxplot()\n",
    "plt.xticks(rotation = 45)\n",
    "plt.show()"
   ]
  },
  {
   "cell_type": "markdown",
   "metadata": {},
   "source": [
    "###### CATEGORICAL COLUMNS\n",
    "\n",
    "A. COUNT PLOT"
   ]
  },
  {
   "cell_type": "code",
   "execution_count": 12,
   "metadata": {},
   "outputs": [
    {
     "data": {
      "image/png": "[encoded data removed]",
      "text/plain": [
       "<Figure size 900x600 with 1 Axes>"
      ]
     },
     "metadata": {
      "needs_background": "light"
     },
     "output_type": "display_data"
    }
   ],
   "source": [
    "# Figure Size\n",
    "plt.figure(figsize = (15,10) ,dpi = 60)\n",
    "\n",
    "# PLotting The Count Plot Using Seaborn\n",
    "sns.countplot(data=df , x = df['gender'])\n",
    "\n",
    "# Title of the plot\n",
    "plt.title('Count for the Number of Males and Females in The social Media',size = 20)\n",
    "\n",
    "# ADDING TEXT ABOVE THE BAR\n",
    "\n",
    "# X AXIS\n",
    "plt.xticks(size = 15)\n",
    "plt.xlabel('Gender',size = 20)\n",
    "\n",
    "# Y AXIS\n",
    "plt.yticks(size = 15)\n",
    "plt.ylabel('Count Of Each Gender',size = 20)\n",
    "\n",
    "# Showing Plot and Grid in the Plot\n",
    "plt.grid(True ,  alpha = 0.8, color = 'red')\n",
    "plt.show()"
   ]
  },
  {
   "cell_type": "markdown",
   "metadata": {},
   "source": [
    "##### 2. HEAT MAP"
   ]
  },
  {
   "cell_type": "code",
   "execution_count": 13,
   "metadata": {},
   "outputs": [
    {
     "data": {
      "image/png": "[encoded data removed]",
      "text/plain": [
       "<Figure size 1300x975 with 2 Axes>"
      ]
     },
     "metadata": {
      "needs_background": "light"
     },
     "output_type": "display_data"
    }
   ],
   "source": [
    "# FIGURE SIZE \n",
    "plt.figure(figsize=(20,15), dpi = 65)\n",
    "sns.heatmap(df.corr(),annot=True)\n",
    "plt.xticks(size = 25)\n",
    "plt.yticks(size = 25)\n",
    "plt.show()"
   ]
  },
  {
   "cell_type": "markdown",
   "metadata": {},
   "source": [
    "INTERPRETATION : DEPENDENT VARIABLE (LIKES) IS CORRELATED TO \n",
    "    \n",
    "    1. LIKES_RECEIVED \n",
    "    2. MOBILE_LIKES\n",
    "    3. MOBIL_LIKES_RECEIVED\n",
    "    4. WWW_LIKES\n",
    "    5. WWW_LIKES_RECEIVED"
   ]
  },
  {
   "cell_type": "code",
   "execution_count": 53,
   "metadata": {},
   "outputs": [],
   "source": [
    "x = df[['mobile_likes','mobile_likes_received','www_likes','www_likes_received']]\n",
    "y = df['likes']"
   ]
  },
  {
   "cell_type": "markdown",
   "metadata": {},
   "source": [
    "<h2 class=\"list-group-item list-group-item-action active\" >3.Split dataset into train and test,Scaling    </h2>\n",
    "\n",
    ">### 1. Split the dataset in dependent variable is [`likes`] and independent\n",
    "\n",
    ">### 2. Convert categorical variables to numeric variables\n",
    "\n",
    ">### 3. Scale the features \n",
    "\n",
    ">### 4. Split dataset into train(70%) and test(30%).How would you ascertain this statistically? \n",
    " "
   ]
  },
  {
   "cell_type": "markdown",
   "metadata": {},
   "source": [
    "Independent Variable -- > X\n",
    "\n",
    "Dependent Variable  -- > Y"
   ]
  },
  {
   "cell_type": "markdown",
   "metadata": {},
   "source": [
    "##### SPLITING THE DATA INTO DEPENDENT AND INDEPENDENT VARIABLE"
   ]
  },
  {
   "cell_type": "code",
   "execution_count": 31,
   "metadata": {},
   "outputs": [],
   "source": [
    "Y = df['likes']\n",
    "X = df.drop(['likes','userid'],axis = 1)"
   ]
  },
  {
   "cell_type": "markdown",
   "metadata": {},
   "source": [
    "##### LABEL ENCODING "
   ]
  },
  {
   "cell_type": "markdown",
   "metadata": {},
   "source": [
    "WE HAVE ONE CATEGORICAL COLUMN -- > GENDER hence we can do label encoding on it"
   ]
  },
  {
   "cell_type": "code",
   "execution_count": 32,
   "metadata": {},
   "outputs": [
    {
     "data": {
      "text/html": [
       "<div>\n",
       "<style scoped>\n",
       "    .dataframe tbody tr th:only-of-type {\n",
       "        vertical-align: middle;\n",
       "    }\n",
       "\n",
       "    .dataframe tbody tr th {\n",
       "        vertical-align: top;\n",
       "    }\n",
       "\n",
       "    .dataframe thead th {\n",
       "        text-align: right;\n",
       "    }\n",
       "</style>\n",
       "<table border=\"1\" class=\"dataframe\">\n",
       "  <thead>\n",
       "    <tr style=\"text-align: right;\">\n",
       "      <th></th>\n",
       "      <th>age</th>\n",
       "      <th>dob_day</th>\n",
       "      <th>dob_year</th>\n",
       "      <th>dob_month</th>\n",
       "      <th>gender</th>\n",
       "      <th>tenure</th>\n",
       "      <th>friend_count</th>\n",
       "      <th>friendships_initiated</th>\n",
       "      <th>likes_received</th>\n",
       "      <th>mobile_likes</th>\n",
       "      <th>mobile_likes_received</th>\n",
       "      <th>www_likes</th>\n",
       "      <th>www_likes_received</th>\n",
       "    </tr>\n",
       "  </thead>\n",
       "  <tbody>\n",
       "    <tr>\n",
       "      <th>0</th>\n",
       "      <td>13</td>\n",
       "      <td>2</td>\n",
       "      <td>2000</td>\n",
       "      <td>2</td>\n",
       "      <td>1</td>\n",
       "      <td>0</td>\n",
       "      <td>0</td>\n",
       "      <td>0</td>\n",
       "      <td>0</td>\n",
       "      <td>0</td>\n",
       "      <td>0</td>\n",
       "      <td>1</td>\n",
       "      <td>0</td>\n",
       "    </tr>\n",
       "    <tr>\n",
       "      <th>1</th>\n",
       "      <td>14</td>\n",
       "      <td>22</td>\n",
       "      <td>1999</td>\n",
       "      <td>1</td>\n",
       "      <td>1</td>\n",
       "      <td>104</td>\n",
       "      <td>0</td>\n",
       "      <td>0</td>\n",
       "      <td>0</td>\n",
       "      <td>0</td>\n",
       "      <td>0</td>\n",
       "      <td>1</td>\n",
       "      <td>0</td>\n",
       "    </tr>\n",
       "    <tr>\n",
       "      <th>2</th>\n",
       "      <td>19</td>\n",
       "      <td>18</td>\n",
       "      <td>1994</td>\n",
       "      <td>10</td>\n",
       "      <td>0</td>\n",
       "      <td>212</td>\n",
       "      <td>0</td>\n",
       "      <td>0</td>\n",
       "      <td>0</td>\n",
       "      <td>0</td>\n",
       "      <td>0</td>\n",
       "      <td>1</td>\n",
       "      <td>0</td>\n",
       "    </tr>\n",
       "    <tr>\n",
       "      <th>3</th>\n",
       "      <td>21</td>\n",
       "      <td>1</td>\n",
       "      <td>1992</td>\n",
       "      <td>1</td>\n",
       "      <td>1</td>\n",
       "      <td>328</td>\n",
       "      <td>0</td>\n",
       "      <td>0</td>\n",
       "      <td>0</td>\n",
       "      <td>0</td>\n",
       "      <td>0</td>\n",
       "      <td>1</td>\n",
       "      <td>0</td>\n",
       "    </tr>\n",
       "    <tr>\n",
       "      <th>4</th>\n",
       "      <td>23</td>\n",
       "      <td>10</td>\n",
       "      <td>1990</td>\n",
       "      <td>2</td>\n",
       "      <td>1</td>\n",
       "      <td>580</td>\n",
       "      <td>0</td>\n",
       "      <td>0</td>\n",
       "      <td>0</td>\n",
       "      <td>0</td>\n",
       "      <td>0</td>\n",
       "      <td>1</td>\n",
       "      <td>0</td>\n",
       "    </tr>\n",
       "  </tbody>\n",
       "</table>\n",
       "</div>"
      ],
      "text/plain": [
       "   age  dob_day  dob_year  dob_month  gender  tenure  friend_count  \\\n",
       "0   13        2      2000          2       1       0             0   \n",
       "1   14       22      1999          1       1     104             0   \n",
       "2   19       18      1994         10       0     212             0   \n",
       "3   21        1      1992          1       1     328             0   \n",
       "4   23       10      1990          2       1     580             0   \n",
       "\n",
       "   friendships_initiated  likes_received  mobile_likes  mobile_likes_received  \\\n",
       "0                      0               0             0                      0   \n",
       "1                      0               0             0                      0   \n",
       "2                      0               0             0                      0   \n",
       "3                      0               0             0                      0   \n",
       "4                      0               0             0                      0   \n",
       "\n",
       "   www_likes  www_likes_received  \n",
       "0          1                   0  \n",
       "1          1                   0  \n",
       "2          1                   0  \n",
       "3          1                   0  \n",
       "4          1                   0  "
      ]
     },
     "execution_count": 32,
     "metadata": {},
     "output_type": "execute_result"
    }
   ],
   "source": [
    "LE = LabelEncoder()\n",
    "X['gender'] = LE.fit_transform(df['gender'])\n",
    "X.head()"
   ]
  },
  {
   "cell_type": "markdown",
   "metadata": {},
   "source": [
    "1 -- > MALE\n",
    "\n",
    "2 -- > FEMALE"
   ]
  },
  {
   "cell_type": "markdown",
   "metadata": {},
   "source": [
    "##### STANDARD SCALING FEATURED DATA"
   ]
  },
  {
   "cell_type": "code",
   "execution_count": 35,
   "metadata": {},
   "outputs": [
    {
     "data": {
      "text/html": [
       "<div>\n",
       "<style scoped>\n",
       "    .dataframe tbody tr th:only-of-type {\n",
       "        vertical-align: middle;\n",
       "    }\n",
       "\n",
       "    .dataframe tbody tr th {\n",
       "        vertical-align: top;\n",
       "    }\n",
       "\n",
       "    .dataframe thead th {\n",
       "        text-align: right;\n",
       "    }\n",
       "</style>\n",
       "<table border=\"1\" class=\"dataframe\">\n",
       "  <thead>\n",
       "    <tr style=\"text-align: right;\">\n",
       "      <th></th>\n",
       "      <th>age</th>\n",
       "      <th>dob_day</th>\n",
       "      <th>dob_year</th>\n",
       "      <th>dob_month</th>\n",
       "      <th>gender</th>\n",
       "      <th>tenure</th>\n",
       "      <th>friend_count</th>\n",
       "      <th>friendships_initiated</th>\n",
       "      <th>likes_received</th>\n",
       "      <th>mobile_likes</th>\n",
       "      <th>mobile_likes_received</th>\n",
       "      <th>www_likes</th>\n",
       "      <th>www_likes_received</th>\n",
       "    </tr>\n",
       "  </thead>\n",
       "  <tbody>\n",
       "    <tr>\n",
       "      <th>0</th>\n",
       "      <td>-1.264734</td>\n",
       "      <td>-1.206123</td>\n",
       "      <td>1.264734</td>\n",
       "      <td>-1.049932</td>\n",
       "      <td>0.707611</td>\n",
       "      <td>-0.923558</td>\n",
       "      <td>-1.460491</td>\n",
       "      <td>-1.170249</td>\n",
       "      <td>-0.17722</td>\n",
       "      <td>-0.113885</td>\n",
       "      <td>-0.15844</td>\n",
       "      <td>-0.167086</td>\n",
       "      <td>-0.173746</td>\n",
       "    </tr>\n",
       "    <tr>\n",
       "      <th>1</th>\n",
       "      <td>-1.202820</td>\n",
       "      <td>0.958305</td>\n",
       "      <td>1.202820</td>\n",
       "      <td>-1.320351</td>\n",
       "      <td>0.707611</td>\n",
       "      <td>-0.573905</td>\n",
       "      <td>-1.460491</td>\n",
       "      <td>-1.170249</td>\n",
       "      <td>-0.17722</td>\n",
       "      <td>-0.113885</td>\n",
       "      <td>-0.15844</td>\n",
       "      <td>-0.167086</td>\n",
       "      <td>-0.173746</td>\n",
       "    </tr>\n",
       "    <tr>\n",
       "      <th>2</th>\n",
       "      <td>-0.893250</td>\n",
       "      <td>0.525419</td>\n",
       "      <td>0.893250</td>\n",
       "      <td>1.113424</td>\n",
       "      <td>-1.413206</td>\n",
       "      <td>-0.210804</td>\n",
       "      <td>-1.460491</td>\n",
       "      <td>-1.170249</td>\n",
       "      <td>-0.17722</td>\n",
       "      <td>-0.113885</td>\n",
       "      <td>-0.15844</td>\n",
       "      <td>-0.167086</td>\n",
       "      <td>-0.173746</td>\n",
       "    </tr>\n",
       "    <tr>\n",
       "      <th>3</th>\n",
       "      <td>-0.769422</td>\n",
       "      <td>-1.314345</td>\n",
       "      <td>0.769422</td>\n",
       "      <td>-1.320351</td>\n",
       "      <td>0.707611</td>\n",
       "      <td>0.179194</td>\n",
       "      <td>-1.460491</td>\n",
       "      <td>-1.170249</td>\n",
       "      <td>-0.17722</td>\n",
       "      <td>-0.113885</td>\n",
       "      <td>-0.15844</td>\n",
       "      <td>-0.167086</td>\n",
       "      <td>-0.173746</td>\n",
       "    </tr>\n",
       "    <tr>\n",
       "      <th>4</th>\n",
       "      <td>-0.645594</td>\n",
       "      <td>-0.340352</td>\n",
       "      <td>0.645594</td>\n",
       "      <td>-1.049932</td>\n",
       "      <td>0.707611</td>\n",
       "      <td>1.026429</td>\n",
       "      <td>-1.460491</td>\n",
       "      <td>-1.170249</td>\n",
       "      <td>-0.17722</td>\n",
       "      <td>-0.113885</td>\n",
       "      <td>-0.15844</td>\n",
       "      <td>-0.167086</td>\n",
       "      <td>-0.173746</td>\n",
       "    </tr>\n",
       "  </tbody>\n",
       "</table>\n",
       "</div>"
      ],
      "text/plain": [
       "        age   dob_day  dob_year  dob_month    gender    tenure  friend_count  \\\n",
       "0 -1.264734 -1.206123  1.264734  -1.049932  0.707611 -0.923558     -1.460491   \n",
       "1 -1.202820  0.958305  1.202820  -1.320351  0.707611 -0.573905     -1.460491   \n",
       "2 -0.893250  0.525419  0.893250   1.113424 -1.413206 -0.210804     -1.460491   \n",
       "3 -0.769422 -1.314345  0.769422  -1.320351  0.707611  0.179194     -1.460491   \n",
       "4 -0.645594 -0.340352  0.645594  -1.049932  0.707611  1.026429     -1.460491   \n",
       "\n",
       "   friendships_initiated  likes_received  mobile_likes  mobile_likes_received  \\\n",
       "0              -1.170249        -0.17722     -0.113885               -0.15844   \n",
       "1              -1.170249        -0.17722     -0.113885               -0.15844   \n",
       "2              -1.170249        -0.17722     -0.113885               -0.15844   \n",
       "3              -1.170249        -0.17722     -0.113885               -0.15844   \n",
       "4              -1.170249        -0.17722     -0.113885               -0.15844   \n",
       "\n",
       "   www_likes  www_likes_received  \n",
       "0  -0.167086           -0.173746  \n",
       "1  -0.167086           -0.173746  \n",
       "2  -0.167086           -0.173746  \n",
       "3  -0.167086           -0.173746  \n",
       "4  -0.167086           -0.173746  "
      ]
     },
     "execution_count": 35,
     "metadata": {},
     "output_type": "execute_result"
    }
   ],
   "source": [
    "SS = StandardScaler()\n",
    "data = SS.fit_transform(X)\n",
    "scaled_data = pd.DataFrame(data,columns=X.columns)\n",
    "scaled_data.head()"
   ]
  },
  {
   "cell_type": "markdown",
   "metadata": {},
   "source": [
    "##### SPLITING THE DATA"
   ]
  },
  {
   "cell_type": "code",
   "execution_count": 36,
   "metadata": {},
   "outputs": [],
   "source": [
    "x_train,x_test,y_train,y_test = train_test_split(scaled_data,Y,test_size=0.3,random_state=10)"
   ]
  },
  {
   "cell_type": "code",
   "execution_count": 37,
   "metadata": {},
   "outputs": [
    {
     "name": "stdout",
     "output_type": "stream",
     "text": [
      "Train Data Shape :  (1472, 13)\n",
      "Test Data Shape :  (632, 13)\n"
     ]
    }
   ],
   "source": [
    "print('Train Data Shape : ',x_train.shape)\n",
    "print('Test Data Shape : ',x_test.shape)"
   ]
  },
  {
   "cell_type": "markdown",
   "metadata": {},
   "source": [
    "<h2 class=\"list-group-item list-group-item-action active\" >4.Model Building and Feature Selection using RFE(Recursive feature elimination)   </h2>\n",
    "\n",
    ">### 1. Use Linear Regression\n",
    "\n",
    ">### 2. Evaluation metrics like Rsqaure,Standard error/RMSE. Write the inference.\n",
    "\n",
    ">### 3. Feature selection using RFE\n",
    "\n",
    "Step1: Check the optimal number of features between 4 to 30\n",
    "\n",
    "Step2: RFE with n features(LinearRegression) \n",
    "\n",
    "Step3: Specify the number of features\n",
    "\n",
    "Step4: Fit with n features\n",
    "\n",
    "Step5: Select features selected by rfe_n      \n",
    "\n",
    "Step6:Training & test data for n selected columns        \n",
    "\n",
    "Step7: Add a constant to the model       \n",
    "\n",
    "Step8:Fit the ols model with n features\n",
    "\n",
    "Step9: Calculate evaluation metrics\n",
    "\n",
    "Step 10: Plot r2 and RMSE against n_features  \n",
    "\n",
    "Step11: Write your final inference.    \n",
    "\n",
    "\n",
    "\n",
    "\n",
    ">### 4. Model Bulding with optimal features count\n",
    "\n"
   ]
  },
  {
   "cell_type": "code",
   "execution_count": 39,
   "metadata": {},
   "outputs": [],
   "source": [
    "linreg = LinearRegression()"
   ]
  },
  {
   "cell_type": "code",
   "execution_count": null,
   "metadata": {},
   "outputs": [],
   "source": [
    "from sklearn.linear_model import "
   ]
  },
  {
   "cell_type": "code",
   "execution_count": 44,
   "metadata": {},
   "outputs": [
    {
     "name": "stdout",
     "output_type": "stream",
     "text": [
      "Index(['dob_day', 'gender', 'mobile_likes', 'mobile_likes_received',\n",
      "       'www_likes'],\n",
      "      dtype='object')\n"
     ]
    }
   ],
   "source": [
    "rfe_model = RFE(estimator=linreg, n_features_to_select = 5)\n",
    "\n",
    "# fit the RFE model on the training dataset using fit()\n",
    "rfe_model = rfe_model.fit(x_train, y_train)\n",
    "\n",
    "# create a series containing feature and its corresponding rank obtained from RFE\n",
    "# 'ranking_' returns the rank of each variable after applying RFE\n",
    "# pass the ranks as the 'data' of a series\n",
    "# 'index' assigns feature names as index of a series \n",
    "feat_index = pd.Series(data = rfe_model.ranking_, index = x_train.columns)\n",
    "\n",
    "# select the features with rank = 1\n",
    "# 'index' returns the indices of a series (i.e. features with rank=1) \n",
    "signi_feat_rfe = feat_index[feat_index==1].index\n",
    "\n",
    "# print the significant features obtained from RFE\n",
    "print(signi_feat_rfe)"
   ]
  },
  {
   "cell_type": "code",
   "execution_count": 48,
   "metadata": {},
   "outputs": [
    {
     "data": {
      "text/html": [
       "<table class=\"simpletable\">\n",
       "<caption>OLS Regression Results</caption>\n",
       "<tr>\n",
       "  <th>Dep. Variable:</th>          <td>likes</td>      <th>  R-squared:         </th>  <td>   1.000</td> \n",
       "</tr>\n",
       "<tr>\n",
       "  <th>Model:</th>                   <td>OLS</td>       <th>  Adj. R-squared:    </th>  <td>   1.000</td> \n",
       "</tr>\n",
       "<tr>\n",
       "  <th>Method:</th>             <td>Least Squares</td>  <th>  F-statistic:       </th>  <td>9.449e+31</td>\n",
       "</tr>\n",
       "<tr>\n",
       "  <th>Date:</th>             <td>Thu, 24 Nov 2022</td> <th>  Prob (F-statistic):</th>   <td>  0.00</td>  \n",
       "</tr>\n",
       "<tr>\n",
       "  <th>Time:</th>                 <td>15:45:26</td>     <th>  Log-Likelihood:    </th>  <td>  40385.</td> \n",
       "</tr>\n",
       "<tr>\n",
       "  <th>No. Observations:</th>      <td>  1472</td>      <th>  AIC:               </th> <td>-8.076e+04</td>\n",
       "</tr>\n",
       "<tr>\n",
       "  <th>Df Residuals:</th>          <td>  1466</td>      <th>  BIC:               </th> <td>-8.073e+04</td>\n",
       "</tr>\n",
       "<tr>\n",
       "  <th>Df Model:</th>              <td>     5</td>      <th>                     </th>      <td> </td>    \n",
       "</tr>\n",
       "<tr>\n",
       "  <th>Covariance Type:</th>      <td>nonrobust</td>    <th>                     </th>      <td> </td>    \n",
       "</tr>\n",
       "</table>\n",
       "<table class=\"simpletable\">\n",
       "<tr>\n",
       "            <td></td>               <th>coef</th>     <th>std err</th>      <th>t</th>      <th>P>|t|</th>  <th>[0.025</th>    <th>0.975]</th>  \n",
       "</tr>\n",
       "<tr>\n",
       "  <th>const</th>                 <td>   27.6545</td> <td>  7.7e-15</td> <td> 3.59e+15</td> <td> 0.000</td> <td>   27.654</td> <td>   27.654</td>\n",
       "</tr>\n",
       "<tr>\n",
       "  <th>dob_day</th>               <td>-1.624e-14</td> <td> 7.66e-15</td> <td>   -2.120</td> <td> 0.034</td> <td>-3.13e-14</td> <td>-1.21e-15</td>\n",
       "</tr>\n",
       "<tr>\n",
       "  <th>gender</th>                <td> 3.442e-14</td> <td> 7.77e-15</td> <td>    4.427</td> <td> 0.000</td> <td> 1.92e-14</td> <td> 4.97e-14</td>\n",
       "</tr>\n",
       "<tr>\n",
       "  <th>mobile_likes</th>          <td>  155.2127</td> <td> 7.88e-15</td> <td> 1.97e+16</td> <td> 0.000</td> <td>  155.213</td> <td>  155.213</td>\n",
       "</tr>\n",
       "<tr>\n",
       "  <th>mobile_likes_received</th> <td>-7.327e-14</td> <td> 1.03e-14</td> <td>   -7.128</td> <td> 0.000</td> <td>-9.34e-14</td> <td>-5.31e-14</td>\n",
       "</tr>\n",
       "<tr>\n",
       "  <th>www_likes</th>             <td>   53.7337</td> <td>  1.2e-14</td> <td> 4.47e+15</td> <td> 0.000</td> <td>   53.734</td> <td>   53.734</td>\n",
       "</tr>\n",
       "</table>\n",
       "<table class=\"simpletable\">\n",
       "<tr>\n",
       "  <th>Omnibus:</th>       <td>3777.181</td> <th>  Durbin-Watson:     </th>   <td>   2.009</td>  \n",
       "</tr>\n",
       "<tr>\n",
       "  <th>Prob(Omnibus):</th>  <td> 0.000</td>  <th>  Jarque-Bera (JB):  </th> <td>51130384.608</td>\n",
       "</tr>\n",
       "<tr>\n",
       "  <th>Skew:</th>           <td>27.535</td>  <th>  Prob(JB):          </th>   <td>    0.00</td>  \n",
       "</tr>\n",
       "<tr>\n",
       "  <th>Kurtosis:</th>       <td>914.381</td> <th>  Cond. No.          </th>   <td>    1.71</td>  \n",
       "</tr>\n",
       "</table><br/><br/>Notes:<br/>[1] Standard Errors assume that the covariance matrix of the errors is correctly specified."
      ],
      "text/plain": [
       "<class 'statsmodels.iolib.summary.Summary'>\n",
       "\"\"\"\n",
       "                            OLS Regression Results                            \n",
       "==============================================================================\n",
       "Dep. Variable:                  likes   R-squared:                       1.000\n",
       "Model:                            OLS   Adj. R-squared:                  1.000\n",
       "Method:                 Least Squares   F-statistic:                 9.449e+31\n",
       "Date:                Thu, 24 Nov 2022   Prob (F-statistic):               0.00\n",
       "Time:                        15:45:26   Log-Likelihood:                 40385.\n",
       "No. Observations:                1472   AIC:                        -8.076e+04\n",
       "Df Residuals:                    1466   BIC:                        -8.073e+04\n",
       "Df Model:                           5                                         \n",
       "Covariance Type:            nonrobust                                         \n",
       "=========================================================================================\n",
       "                            coef    std err          t      P>|t|      [0.025      0.975]\n",
       "-----------------------------------------------------------------------------------------\n",
       "const                    27.6545    7.7e-15   3.59e+15      0.000      27.654      27.654\n",
       "dob_day               -1.624e-14   7.66e-15     -2.120      0.034   -3.13e-14   -1.21e-15\n",
       "gender                 3.442e-14   7.77e-15      4.427      0.000    1.92e-14    4.97e-14\n",
       "mobile_likes            155.2127   7.88e-15   1.97e+16      0.000     155.213     155.213\n",
       "mobile_likes_received -7.327e-14   1.03e-14     -7.128      0.000   -9.34e-14   -5.31e-14\n",
       "www_likes                53.7337    1.2e-14   4.47e+15      0.000      53.734      53.734\n",
       "==============================================================================\n",
       "Omnibus:                     3777.181   Durbin-Watson:                   2.009\n",
       "Prob(Omnibus):                  0.000   Jarque-Bera (JB):         51130384.608\n",
       "Skew:                          27.535   Prob(JB):                         0.00\n",
       "Kurtosis:                     914.381   Cond. No.                         1.71\n",
       "==============================================================================\n",
       "\n",
       "Notes:\n",
       "[1] Standard Errors assume that the covariance matrix of the errors is correctly specified.\n",
       "\"\"\""
      ]
     },
     "execution_count": 48,
     "metadata": {},
     "output_type": "execute_result"
    }
   ],
   "source": [
    "use_data = scaled_data[['dob_day', 'gender', 'mobile_likes', 'mobile_likes_received','www_likes']]\n",
    "x_train,x_test,y_train,y_test = train_test_split(use_data,Y,test_size=0.3,random_state=10)\n",
    "\n",
    "# ADDING CONSTANT TO THE TRAIN AND TEST\n",
    "x_train_constant = sm.add_constant(x_train)\n",
    "x_test_constant = sm.add_constant(x_test)\n",
    "\n",
    "# ORDINARY LEAST SQUARED METHOD\n",
    "ols_model  = sm.OLS(y_train,x_train_constant).fit()\n",
    "\n",
    "# Model Summary\n",
    "ols_model.summary()"
   ]
  },
  {
   "cell_type": "markdown",
   "metadata": {},
   "source": [
    "##### R SQUARE AND ADJUSTED R SQUARE VALUE"
   ]
  },
  {
   "cell_type": "code",
   "execution_count": 51,
   "metadata": {},
   "outputs": [
    {
     "name": "stdout",
     "output_type": "stream",
     "text": [
      "R Square value of the Ordinary Least Sqaure Method :  1.0\n",
      "Adjusted R Square Value :  1.0\n"
     ]
    }
   ],
   "source": [
    "rsquare_value_ols = ols_model.rsquared\n",
    "adjrsqaure_value_ols = ols_model.rsquared_adj\n",
    "\n",
    "print('R Square value of the Ordinary Least Sqaure Method : ',rsquare_value_ols)\n",
    "print('Adjusted R Square Value : ',adjusted_value_ols)"
   ]
  },
  {
   "cell_type": "markdown",
   "metadata": {},
   "source": [
    "##### RMSE VALUE AND MAPE VALUE"
   ]
  },
  {
   "cell_type": "code",
   "execution_count": 53,
   "metadata": {},
   "outputs": [],
   "source": [
    "train_predict = ols_model.predict(x_train_constant)\n",
    "test_predict  = ols_model.predict(x_test_constant)"
   ]
  },
  {
   "cell_type": "code",
   "execution_count": 54,
   "metadata": {},
   "outputs": [],
   "source": [
    "from sklearn.metrics import mean_squared_error\n",
    "from sklearn.metrics import mean_absolute_percentage_error"
   ]
  },
  {
   "cell_type": "code",
   "execution_count": 61,
   "metadata": {},
   "outputs": [
    {
     "name": "stdout",
     "output_type": "stream",
     "text": [
      "Rmse value of the mean squared error train :  0.0\n",
      "Rmse value of the mean squared error test :  0.0\n"
     ]
    }
   ],
   "source": [
    "train_value_rmse = mean_squared_error(y_train,train_predict)\n",
    "print('Rmse value of the mean squared error train : ',round(train_value_rmse,4))\n",
    "test_value_rmse = mean_squared_error(y_test,test_predict)\n",
    "print('Rmse value of the mean squared error test : ',round(test_value_rmse,4))"
   ]
  },
  {
   "cell_type": "markdown",
   "metadata": {},
   "source": [
    "HENCE MODEL IS IDEAL MODEL HENCE GOOD FIT MODEL"
   ]
  },
  {
   "cell_type": "code",
   "execution_count": null,
   "metadata": {},
   "outputs": [],
   "source": []
  },
  {
   "cell_type": "markdown",
   "metadata": {},
   "source": [
    "<h2 class=\"list-group-item list-group-item-action active\" >5.Linear Regression Assumptions Validation</h2>\n",
    "\n",
    "\n",
    ">### 1. Linearity of the model\n",
    ">### 2. Normality of residuals "
   ]
  },
  {
   "cell_type": "markdown",
   "metadata": {},
   "source": [
    "##### NORMALITY OF RESIDUALS"
   ]
  },
  {
   "cell_type": "code",
   "execution_count": 65,
   "metadata": {},
   "outputs": [
    {
     "data": {
      "image/png": "[encoded data removed]",
      "text/plain": [
       "<Figure size 1080x576 with 1 Axes>"
      ]
     },
     "metadata": {
      "needs_background": "light"
     },
     "output_type": "display_data"
    }
   ],
   "source": [
    "plt.rcParams['figure.figsize'] = [15,8]\n",
    "qqplot(ols_model.resid, line = 'r')\n",
    "\n",
    "# set plot and axes labels\n",
    "# set text size using 'fontsize'\n",
    "plt.title('Q-Q Plot', fontsize = 15)\n",
    "plt.xlabel('Theoretical Quantiles', fontsize = 15)\n",
    "plt.ylabel('Sample Quantiles', fontsize = 15)\n",
    "\n",
    "# display the plot\n",
    "plt.show()"
   ]
  },
  {
   "cell_type": "markdown",
   "metadata": {},
   "source": [
    "<h2 class=\"list-group-item list-group-item-action active\" >6.Rebuilding the Model: Feature Selection using RFE & K-Fold Cross Validation</h2>\n",
    "\n",
    "\n",
    ">### A. Finding optimal feature count using RFE and plot the r2 and RMSE against n_features.\n",
    "\n",
    ">### B. K-Fold Cross Validation"
   ]
  },
  {
   "cell_type": "code",
   "execution_count": null,
   "metadata": {},
   "outputs": [],
   "source": []
  },
  {
   "cell_type": "code",
   "execution_count": null,
   "metadata": {},
   "outputs": [],
   "source": []
  }
 ],
 "metadata": {
  "kernelspec": {
   "display_name": "Python 3",
   "language": "python",
   "name": "python3"
  },
  "language_info": {
   "codemirror_mode": {
    "name": "ipython",
    "version": 3
   },
   "file_extension": ".py",
   "mimetype": "text/x-python",
   "name": "python",
   "nbconvert_exporter": "python",
   "pygments_lexer": "ipython3",
   "version": "3.8.8"
  }
 },
 "nbformat": 4,
 "nbformat_minor": 4
}
